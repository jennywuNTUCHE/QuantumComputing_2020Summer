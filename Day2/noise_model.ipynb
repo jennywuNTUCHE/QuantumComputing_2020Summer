{
 "cells": [
  {
   "cell_type": "markdown",
   "metadata": {},
   "source": [
    "## Prerequisites"
   ]
  },
  {
   "cell_type": "code",
   "execution_count": 1,
   "metadata": {},
   "outputs": [],
   "source": [
    "# import Qiskit\n",
    "from qiskit import IBMQ, QuantumCircuit, Aer, execute\n",
    "from qiskit.providers.ibmq import least_busy\n",
    "from qiskit.tools.jupyter import *\n",
    "\n",
    "# import api token\n",
    "apitoken = 'paste your token here'\n",
    "try :\n",
    "    IBMQ.enable_account(token=apitoken)\n",
    "except:\n",
    "    pass\n",
    "provider = IBMQ.get_provider(project='default') "
   ]
  },
  {
   "cell_type": "markdown",
   "metadata": {},
   "source": [
    "# Noise Model"
   ]
  },
  {
   "cell_type": "markdown",
   "metadata": {},
   "source": [
    " In this notebook, we are going to deal with a noisy quantum computer via simulator, to demo a case we may encounter when running an experiment on a real quantum computer.\n",
    " The noise sources can be complicated, but result in errors in measurement outcomes. Before eliminating the errors, we need to build up a noise model first.\n",
    " \n",
    " Note the model is generated for IBM hardwares, for which may not be useful on other physical layouts.\n",
    " \n",
    "Below we introduce some simple errors:\n",
    "\n",
    " \n",
    "\n",
    "\n",
    "\n",
    "\n",
    "\n"
   ]
  },
  {
   "cell_type": "markdown",
   "metadata": {},
   "source": [
    "### Types of errors"
   ]
  },
  {
   "cell_type": "markdown",
   "metadata": {},
   "source": [
    "1. `pauli_error(noise_ops)`: Generates a mixed Pauli error. For example,\n",
    "```python\n",
    "pauli_error([('X',p), ('I', 1 - p)])\n",
    "```\n",
    "returns a Pauli error which randomly flip qubit with propability $p$. Parameter `noise_ops` in `pauli_error(noise_ops)` is a list of pairs `[pair[Pauli(j), p(j)]]` where sum of all probabilities $p(j)$ is unity.\n",
    "\n",
    "2. `depolarizing_error(p, number_qubits)`: The channel is defined as\n",
    "$$\n",
    "E_\\text{depolarize}(\\rho)\n",
    "=\n",
    "(1-p) \\rho\n",
    "+\n",
    "p \\text{Tr}(\\rho)\n",
    "\\dfrac{\\mathbb{I}}{2^n}.\n",
    "$$\n",
    "with depolarizing error $p$ and the number of qubits for the error channel $n$. \n",
    "Roughly speaking, with propabilities $p$, the state remains in the same state. Otherwise, the state becomes totally mixed state.\n",
    "\n",
    "3. `thermal_relaxation_error(t1, t2, time, excited_state_population=0)`: This function gives a single-qubit thermal relaxation error. The four parameters are\n",
    " - `t1`: The $T_1$ relaxation time (energy relaxation).\n",
    " - `t2`: The $T_2$ relaxation time (phase decoherence). In general, $T_2 \\leq T_1$.\n",
    " - `time`: The gate time $T_g$ for relaxation error.\n",
    " - `excited_state_population`: The population of $\\left|1\\right>$ at quilibrium. The default setting is `0` meaning that the qubit will eventually loss the information."
   ]
  },
  {
   "cell_type": "markdown",
   "metadata": {},
   "source": [
    "### Add errors to noise model"
   ]
  },
  {
   "cell_type": "markdown",
   "metadata": {},
   "source": [
    "Now we know how to construct quantum errors, but how to apply them to specific qubit? One may want to add the noise to (1)all qubits or (2)specific qubit.\n",
    "1. `add_all_qubit_quantum_error(error, instructions)`: Apply `error` to `instructions` for all qubits.\n",
    "\n",
    "2. `add_quantum_error(error, instructions, qubits)`: Add `error` to `instructions` on a list of `qubits`."
   ]
  },
  {
   "cell_type": "code",
   "execution_count": 2,
   "metadata": {},
   "outputs": [
    {
     "name": "stdout",
     "output_type": "stream",
     "text": [
      "NoiseModel:\n",
      "  Basis gates: ['cx', 'id', 'u1', 'u2', 'u3']\n",
      "  Instructions with noise: ['u2', 'u1', 'u3', 'id']\n",
      "  All-qubits errors: ['u1', 'u2', 'u3', 'id']\n",
      "NoiseModel:\n",
      "  Basis gates: ['cx', 'id', 'u1', 'u2', 'u3']\n",
      "  Instructions with noise: ['u1', 'id', 'u3', 'measure', 'u2']\n",
      "  Qubits with noise: [0]\n",
      "  All-qubits errors: ['u1', 'u2', 'u3', 'id']\n",
      "  Specific qubit errors: [('measure', [0])]\n"
     ]
    }
   ],
   "source": [
    "from qiskit.providers.aer.noise import NoiseModel\n",
    "from qiskit.providers.aer.noise import thermal_relaxation_error, depolarizing_error\n",
    "\n",
    "noise_model = NoiseModel()\n",
    "\n",
    "# thermal relaxation error\n",
    "t1 = 11\n",
    "t2 = 11\n",
    "time = 20\n",
    "thermal_error = thermal_relaxation_error(t1, t2, time)\n",
    "noise_model.add_all_qubit_quantum_error(thermal_error, ['u1', 'u2', 'u3', 'id'])\n",
    "print(noise_model)\n",
    "\n",
    "# depolarizing error\n",
    "p_depolar = 0.01\n",
    "depolar_error = depolarizing_error(p_depolar, 1)\n",
    "noise_model.add_quantum_error(depolar_error, ['measure'], [0])\n",
    "print(noise_model)"
   ]
  },
  {
   "cell_type": "markdown",
   "metadata": {},
   "source": [
    "### Combine errors"
   ]
  },
  {
   "cell_type": "markdown",
   "metadata": {},
   "source": [
    "We may need to combine different errors no matter on the same qubit or different subsystems.\n",
    "1. Combine errors on different qubits\n",
    "By tensor product, we can combine the errors. For example,\n",
    "```python\n",
    "combine_error = error1.tensor(error2)\n",
    "```\n",
    "Here we demo a two-qubit system with different types of error acting on each qubits."
   ]
  },
  {
   "cell_type": "code",
   "execution_count": 3,
   "metadata": {},
   "outputs": [
    {
     "name": "stdout",
     "output_type": "stream",
     "text": [
      "QuantumError on 2 qubits. Noise circuits:\n",
      "  P(0) = 0.0015, QasmQobjInstructions = [[{'name': 'z', 'qubits': [0]}, {'name': 'x', 'qubits': [1]}]\n",
      "  P(1) = 0.0485, QasmQobjInstructions = [[{'name': 'x', 'qubits': [1]}]\n",
      "  P(2) = 0.028499999999999998, QasmQobjInstructions = [[{'name': 'z', 'qubits': [0]}]\n",
      "  P(3) = 0.9215, QasmQobjInstructions = [[{'name': 'id', 'qubits': [1]}]\n"
     ]
    }
   ],
   "source": [
    "import qiskit.providers.aer.noise as noise\n",
    "from qiskit.providers.aer.noise import pauli_error\n",
    "p_X = 0.05\n",
    "p_Z = 0.03\n",
    "bit_flip = pauli_error([('X', p_X), ('I', 1 - p_X)])\n",
    "phase_flip = pauli_error([('Z', p_Z), ('I', 1 - p_Z)])\n",
    "\n",
    "error_combine = bit_flip.tensor(phase_flip) # bit-flip error on q0, phase-flip error on q1\n",
    "print(error_combine)"
   ]
  },
  {
   "cell_type": "markdown",
   "metadata": {},
   "source": [
    "2. For a qubit with more than one types of error, we can use the `compose` command as\n",
    "```python\n",
    "combine_error = error1.compose(error2)\n",
    "```\n",
    "For instance, if we want to simulate a qubit with both phase-flip and bit-flip errors, the following cell helps:"
   ]
  },
  {
   "cell_type": "code",
   "execution_count": 4,
   "metadata": {},
   "outputs": [
    {
     "name": "stdout",
     "output_type": "stream",
     "text": [
      "QuantumError on 1 qubits. Noise circuits:\n",
      "  P(0) = 0.0015, QasmQobjInstructions = [[{'name': 'x', 'qubits': [0]}, {'name': 'z', 'qubits': [0]}]\n",
      "  P(1) = 0.0485, QasmQobjInstructions = [[{'name': 'x', 'qubits': [0]}]\n",
      "  P(2) = 0.028499999999999998, QasmQobjInstructions = [[{'name': 'z', 'qubits': [0]}]\n",
      "  P(3) = 0.9215, QasmQobjInstructions = [[{'name': 'id', 'qubits': [0]}]\n"
     ]
    }
   ],
   "source": [
    "bitphase_flip = bit_flip.compose(phase_flip)\n",
    "print(bitphase_flip)"
   ]
  },
  {
   "cell_type": "markdown",
   "metadata": {},
   "source": [
    "For more noise model, please visit [Qiskit Documentation](https://qiskit.org/documentation/apidoc/aer_noise.html?highlight=depolarizing_error).\n",
    "We briefly introduce the basic uses of the noise model with Qiskit below. The quantum circuit used in demonstration is the three-qubit GHZ-state generator."
   ]
  },
  {
   "cell_type": "code",
   "execution_count": 17,
   "metadata": {},
   "outputs": [
    {
     "name": "stdout",
     "output_type": "stream",
     "text": [
      "NoiseModel:\n",
      "  Basis gates: ['cx', 'id', 'u1', 'u2', 'u3']\n",
      "  Instructions with noise: ['u1', 'cx', 'u3', 'measure', 'u2']\n",
      "  Qubits with noise: [1, 2]\n",
      "  All-qubits errors: ['u1', 'u2', 'u3', 'measure']\n",
      "  Specific qubit errors: [('cx', [1, 2])]\n"
     ]
    }
   ],
   "source": [
    "import numpy as np\n",
    "\n",
    "# build up circuit\n",
    "n = 3\n",
    "GHZ_circuit = QuantumCircuit(n, n)\n",
    "GHZ_circuit.h(0)\n",
    "for i in range(0, n-1):\n",
    "    GHZ_circuit.cx(i, i+1)\n",
    "GHZ_circuit.measure(range(n), range(n))\n",
    "\n",
    "# add errors\n",
    "noise_model = NoiseModel()\n",
    "\n",
    "p_cx = 0.07\n",
    "error_cx = depolarizing_error(p_cx, 1)\n",
    "error_cx = error_cx.tensor(error_cx)\n",
    "noise_model.add_quantum_error(error_cx, ['cx'], [1,2])\n",
    "\n",
    "t1 = 11\n",
    "t2 = 11\n",
    "time = 15\n",
    "excited_state_population = 0.05\n",
    "error_thermal = thermal_relaxation_error(t1, t2, time, excited_state_population)\n",
    "noise_model.add_all_qubit_quantum_error(error_thermal, ['u1', 'u2', 'u3'])\n",
    "\n",
    "p_flip = 0.12\n",
    "error_meas_flip = pauli_error([('X', p_flip), ('I', 1 - p_flip)])\n",
    "noise_model.add_all_qubit_quantum_error(error_meas_flip, ['measure'])\n",
    "\n",
    "print(noise_model)"
   ]
  },
  {
   "cell_type": "markdown",
   "metadata": {},
   "source": [
    "## Result of a noisy simulator"
   ]
  },
  {
   "cell_type": "code",
   "execution_count": 12,
   "metadata": {},
   "outputs": [
    {
     "name": "stdout",
     "output_type": "stream",
     "text": [
      "{'111': 333, '000': 333, '010': 69, '100': 59, '110': 51, '011': 66, '001': 53, '101': 60}\n"
     ]
    }
   ],
   "source": [
    "# Run the noisy simulation\n",
    "shots = 1024\n",
    "backend = Aer.get_backend('qasm_simulator')\n",
    "job_noisy = execute(GHZ_circuit, backend, shots=shots, noise_model=noise_model)\n",
    "counts_noisy = job_noisy.result().get_counts()\n",
    "\n",
    "# Plot noisy output\n",
    "from qiskit.visualization import plot_histogram\n",
    "print(counts_noisy)\n",
    "#plot_histogram(counts_noisy)"
   ]
  },
  {
   "cell_type": "markdown",
   "metadata": {},
   "source": [
    "## Result of a ideal simulator"
   ]
  },
  {
   "cell_type": "code",
   "execution_count": 13,
   "metadata": {},
   "outputs": [
    {
     "name": "stdout",
     "output_type": "stream",
     "text": [
      "{'111': 495, '000': 529}\n"
     ]
    }
   ],
   "source": [
    "job_ideal = execute(GHZ_circuit, backend, shots=shots)\n",
    "counts_ideal = job_ideal.result().get_counts()\n",
    "\n",
    "print(counts_ideal)\n",
    "#plot_histogram(counts_ideal)"
   ]
  },
  {
   "cell_type": "markdown",
   "metadata": {},
   "source": [
    "## Experiment on a real device"
   ]
  },
  {
   "cell_type": "code",
   "execution_count": 14,
   "metadata": {},
   "outputs": [
    {
     "name": "stdout",
     "output_type": "stream",
     "text": [
      "backend:  ibmq_almaden\n",
      "{'111': 374, '000': 503, '010': 6, '100': 17, '110': 57, '011': 29, '001': 8, '101': 30}\n"
     ]
    }
   ],
   "source": [
    "backend = least_busy(provider.backends(filters=lambda x: x.configuration().n_qubits >= n and \n",
    "                                       not x.configuration().simulator and x.status().operational==True))\n",
    "print('backend: ', backend)\n",
    "job_qc = execute(GHZ_circuit, backend, shots=shots, optimization_level=3)\n",
    "counts_qc = job_qc.result().get_counts(GHZ_circuit)\n",
    "\n",
    "print(counts_qc)\n",
    "#plot_histogram(counts_qc)"
   ]
  },
  {
   "cell_type": "markdown",
   "metadata": {},
   "source": [
    "## Comparison"
   ]
  },
  {
   "cell_type": "markdown",
   "metadata": {},
   "source": [
    "After the effort above, we can now compare the measurement outcomes of the three cases."
   ]
  },
  {
   "cell_type": "code",
   "execution_count": 15,
   "metadata": {},
   "outputs": [
    {
     "data": {
      "image/png": "[encoded data removed]",
      "text/plain": [
       "<Figure size 504x360 with 1 Axes>"
      ]
     },
     "execution_count": 15,
     "metadata": {},
     "output_type": "execute_result"
    }
   ],
   "source": [
    "from qiskit.visualization import plot_histogram\n",
    "plot_histogram([counts_noisy, counts_ideal, counts_qc], legend=['noise model', 'ideal', 'real device'])"
   ]
  },
  {
   "cell_type": "markdown",
   "metadata": {},
   "source": [
    "***Question:***\n",
    "**How to get much closer to the reality?**"
   ]
  },
  {
   "cell_type": "code",
   "execution_count": 16,
   "metadata": {},
   "outputs": [
    {
     "data": {
      "text/html": [
       "<h3>Version Information</h3><table><tr><th>Qiskit Software</th><th>Version</th></tr><tr><td>Qiskit</td><td>0.19.0</td></tr><tr><td>Terra</td><td>0.14.0</td></tr><tr><td>Aer</td><td>0.5.1</td></tr><tr><td>Ignis</td><td>0.3.0</td></tr><tr><td>Aqua</td><td>0.7.0</td></tr><tr><td>IBM Q Provider</td><td>0.7.0</td></tr><tr><th>System information</th></tr><tr><td>Python</td><td>3.7.7 (default, May  6 2020, 04:59:01) \n",
       "[Clang 4.0.1 (tags/RELEASE_401/final)]</td></tr><tr><td>OS</td><td>Darwin</td></tr><tr><td>CPUs</td><td>6</td></tr><tr><td>Memory (Gb)</td><td>32.0</td></tr><tr><td colspan='2'>Mon Aug 03 20:50:15 2020 CST</td></tr></table>"
      ],
      "text/plain": [
       "<IPython.core.display.HTML object>"
      ]
     },
     "metadata": {},
     "output_type": "display_data"
    },
    {
     "data": {
      "text/html": [
       "<div style='width: 100%; background-color:#d5d9e0;padding-left: 10px; padding-bottom: 10px; padding-right: 10px; padding-top: 5px'><h3>This code is a part of Qiskit</h3><p>&copy; Copyright IBM 2017, 2020.</p><p>This code is licensed under the Apache License, Version 2.0. You may<br>obtain a copy of this license in the LICENSE.txt file in the root directory<br> of this source tree or at http://www.apache.org/licenses/LICENSE-2.0.<p>Any modifications or derivative works of this code must retain this<br>copyright notice, and modified files need to carry a notice indicating<br>that they have been altered from the originals.</p></div>"
      ],
      "text/plain": [
       "<IPython.core.display.HTML object>"
      ]
     },
     "metadata": {},
     "output_type": "display_data"
    }
   ],
   "source": [
    "import qiskit.tools.jupyter\n",
    "%qiskit_version_table\n",
    "%qiskit_copyright"
   ]
  },
  {
   "cell_type": "markdown",
   "metadata": {},
   "source": [
    "# Exercise: Toffoli Gate"
   ]
  },
  {
   "cell_type": "markdown",
   "metadata": {},
   "source": [
    "The operation rule for Toffoli gate is actually a generalization to CNOT gate. The first two qubits are the *controlled* qubits while the last acts as the *target*. The target flips only when two *controls* both have value `1`. That is, only when the qubit string is `110` or `111`, the output is different from the input as `111` and `110`, respectively. Otherwise, the input and output are the same.\n"
   ]
  },
  {
   "cell_type": "markdown",
   "metadata": {},
   "source": [
    "For simplicity, we first create an oracle, the function `initial_state` in order to initialize the states of qubits. \n",
    "Here the initial state is \n",
    "$$\n",
    "\\left|\\psi_0\\right>\n",
    "=\n",
    "\\left|1\\right>\n",
    "\\otimes\n",
    "\\dfrac{1}{\\sqrt{2}}\n",
    "\\left( \\left|0\\right> + \\left|1\\right> \\right)\n",
    "\\otimes\n",
    "\\dfrac{1}{\\sqrt{2}}\n",
    "\\left( \\left|0\\right> + \\left|1\\right> \\right) \n",
    "=\n",
    "\\dfrac{1}{2}\n",
    "\\left(\n",
    "\\left|100\\right> + \\left|101\\right> + \\left|110\\right> + \\left|111\\right>\n",
    "\\right),\n",
    "$$\n",
    "which can be implemented by a NOT gate and two Hadamard gates."
   ]
  },
  {
   "cell_type": "code",
   "execution_count": 68,
   "metadata": {},
   "outputs": [],
   "source": [
    "def initial_state(n):\n",
    "    init_circ = QuantumCircuit(n)\n",
    "    \n",
    "    init_circ.x(0)\n",
    "    init_circ.h(1)\n",
    "    init_circ.h(2)\n",
    "    \n",
    "    init_gate = init_circ.to_gate()\n",
    "    init_gate.name = 'initial_state'\n",
    "    return init_gate"
   ]
  },
  {
   "cell_type": "markdown",
   "metadata": {},
   "source": [
    "In Qiskit, we can insert a Toffoli gate by a simple command `ccx` just as show in below cell."
   ]
  },
  {
   "cell_type": "code",
   "execution_count": 69,
   "metadata": {},
   "outputs": [
    {
     "data": {
      "image/png": "[encoded data removed]",
      "text/plain": [
       "<Figure size 600.28x189.2 with 1 Axes>"
      ]
     },
     "execution_count": 69,
     "metadata": {},
     "output_type": "execute_result"
    }
   ],
   "source": [
    "n = 3\n",
    "ccx_circ = QuantumCircuit(n,n)\n",
    "# append the oracle 'initial_state' to the circuit\n",
    "ccx_circ.append(initial_state(n), range(n))\n",
    "ccx_circ.barrier()\n",
    "# Toffoli gate with 'ccx' command\n",
    "ccx_circ.ccx(0,1,2)\n",
    "ccx_circ.barrier()\n",
    "ccx_circ.measure(range(n), range(n))\n",
    "ccx_circ.draw('mpl', scale=0.5)"
   ]
  },
  {
   "cell_type": "markdown",
   "metadata": {},
   "source": [
    "Or, we can generate the identicle operation with combination of some single-qubit gate a CNOT gate as following.\n",
    "The proof of the equevelance of these two given circuits is left to you. The measurement outcomes of the two are shown below, please check the matrix representations by yourself."
   ]
  },
  {
   "cell_type": "code",
   "execution_count": 70,
   "metadata": {},
   "outputs": [
    {
     "data": {
      "image/png": "[encoded data removed]",
      "text/plain": [
       "<Figure size 1073.28x189.2 with 1 Axes>"
      ]
     },
     "execution_count": 70,
     "metadata": {},
     "output_type": "execute_result"
    }
   ],
   "source": [
    "Toffoli_circ = QuantumCircuit(n,n)\n",
    "Toffoli_circ.append(initial_state(n), range(n))\n",
    "Toffoli_circ.barrier()\n",
    "# Toffoli circuit \n",
    "Toffoli_circ.h(2)\n",
    "Toffoli_circ.cx(1,2)\n",
    "Toffoli_circ.tdg(2)\n",
    "Toffoli_circ.cx(0,2)\n",
    "Toffoli_circ.t(2)\n",
    "Toffoli_circ.cx(1,2)\n",
    "Toffoli_circ.tdg(2)\n",
    "Toffoli_circ.cx(0,2)\n",
    "Toffoli_circ.t(2)\n",
    "Toffoli_circ.tdg(1)\n",
    "Toffoli_circ.h(2)\n",
    "Toffoli_circ.cx(0,1)\n",
    "Toffoli_circ.tdg(1)\n",
    "Toffoli_circ.cx(0,1)\n",
    "Toffoli_circ.s(1)\n",
    "Toffoli_circ.t(0)\n",
    "Toffoli_circ.barrier()\n",
    "\n",
    "Toffoli_circ.measure(range(n), range(n))\n",
    "Toffoli_circ.draw('mpl',scale=0.5)"
   ]
  },
  {
   "cell_type": "markdown",
   "metadata": {},
   "source": [
    "Now we introduce somquantum errors into the both circuits, and compare the measurement results to see if there is any difference.\n",
    "First of all, we run the circuits on the simulator.\n"
   ]
  },
  {
   "cell_type": "code",
   "execution_count": 71,
   "metadata": {},
   "outputs": [
    {
     "name": "stdout",
     "output_type": "stream",
     "text": [
      "ccx=  {'011': 252, '111': 264, '001': 255, '101': 253}\n",
      "circuit=  {'011': 254, '111': 248, '001': 256, '101': 266}\n"
     ]
    },
    {
     "data": {
      "image/png": "[encoded data removed]",
      "text/plain": [
       "<Figure size 504x360 with 1 Axes>"
      ]
     },
     "execution_count": 71,
     "metadata": {},
     "output_type": "execute_result"
    }
   ],
   "source": [
    "shots = 1024\n",
    "simulator = Aer.get_backend('qasm_simulator')\n",
    "\n",
    "job_ccx = execute(ccx_circ, backend=simulator, shots=shots)\n",
    "counts_ccx = job_ccx.result().get_counts(ccx_circ)\n",
    "job_Toffoli = execute(Toffoli_circ, backend=simulator, shots=shots)\n",
    "counts_Toffoli = job_Toffoli.result().get_counts(Toffoli_circ)\n",
    "\n",
    "print('ccx= ', counts_ccx)\n",
    "print('circuit= ', counts_Toffoli)\n",
    "plot_histogram([counts_Toffoli, counts_ccx], legend=['ccx', 'circuit'])"
   ]
  },
  {
   "cell_type": "markdown",
   "metadata": {},
   "source": [
    "From statistical results, we can say that the two circuits might have identicle operation. "
   ]
  },
  {
   "cell_type": "markdown",
   "metadata": {},
   "source": [
    "**Now it your turn to add quantum errors to the circuits.**\n",
    "Please run the circuits on both  noisy simulator and a real device. Compare the outcomes, which circuits is closer to a real quantum computer? \n",
    "Please also transpile the second circuit to the chosen backend and use the resultant circuit as a basis of noise model and do the analysis."
   ]
  },
  {
   "cell_type": "code",
   "execution_count": null,
   "metadata": {},
   "outputs": [],
   "source": []
  }
 ],
 "metadata": {
  "kernelspec": {
   "display_name": "Python 3",
   "language": "python",
   "name": "python3"
  },
  "language_info": {
   "codemirror_mode": {
    "name": "ipython",
    "version": 3
   },
   "file_extension": ".py",
   "mimetype": "text/x-python",
   "name": "python",
   "nbconvert_exporter": "python",
   "pygments_lexer": "ipython3",
   "version": "3.7.7"
  }
 },
 "nbformat": 4,
 "nbformat_minor": 4
}
